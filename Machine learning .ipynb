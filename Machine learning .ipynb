{
 "cells": [
  {
   "cell_type": "code",
   "execution_count": 50,
   "metadata": {},
   "outputs": [
    {
     "data": {
      "text/plain": [
       "1.0"
      ]
     },
     "execution_count": 50,
     "metadata": {},
     "output_type": "execute_result"
    }
   ],
   "source": [
    "import pandas as pd \n",
    "from sklearn.tree import DecisionTreeClassifier\n",
    "#  so sklearn is a \"library\"  tree is \"module\" and in that we are importing \"class\" DecisionTreeClassifier\n",
    "# its have some method for predicting and creating splited data set \n",
    "\n",
    "from sklearn.model_selection import train_test_split\n",
    "# with this function we easily split our data set into 2 set  for training and testing   \n",
    "\n",
    "from sklearn.metrics import accuracy_score\n",
    "# is to check accuracy by comparing actual value to the predicted value \n",
    "\n",
    "music_data = pd.read_csv('music.csv')\n",
    "# music_data #inspected whole data of file name music\n",
    "\n",
    "x = music_data.drop(columns = ['genre']) \n",
    "# x # we have inspected and we got input set as we talk about\n",
    "\n",
    "y = music_data['genre']\n",
    "# y # we ll provide you output data set\n",
    "\n",
    "x_train,x_test,y_train,y_test=train_test_split(x,y,test_size = 0.2)\n",
    "# so .2 is we are allocating 20 % of our data for testing and this function return as tuple and we unpacked into 4 variable\n",
    "\n",
    "#$$ learning and predicting \n",
    "\n",
    "model = DecisionTreeClassifier()\n",
    "\n",
    "model.fit(x_train,y_train) \n",
    "# this method take 2 data set input set(x) and ouput set(y) this function is for training our data set \n",
    "## instead of training entire data set (model.fit(x,y)) we ll pass only training data set means(x_train,y_train)\n",
    "\n",
    "predictions=model.predict(x_test) \n",
    "# this method take 2 dimensional array in each array a element is array we are asking for 2 prediction at a same time\n",
    "#one for male of 21 year and female of 22 year \n",
    "## modified also when making prediction instead of model.predict([[21,1],[22,0]]) we passed x_test(data set contain input for testing)\n",
    "\n",
    "#$ checking accuracy \n",
    "# we ll compare predictions value   to the actual value in our output set ie y_test so we need to import accuracy\n",
    "\n",
    "\n",
    "# when we inspect predictions = model.predict([[21,1],[22,0]])\n",
    "# array(['HipHop', 'Dance'], dtype=object) so its predicted for male Hiphop and Dacne for women \n",
    "\n",
    "#$$ calucalting accuracy \n",
    "#$ for this we need to break our data set into two set, one for training another for testing\n",
    "\n",
    "score = accuracy_score(y_test,predictions)\n",
    "#y_test expected values \n",
    "# predictions - predicted values \n",
    "\n",
    "#score#\n",
    "# score value is in between 0-1 means if its .50 then 50% accuracy \n",
    "# more you run more different result it ll shows why ? becuase everytime we splits  our data set into training & testing we have \n",
    "#different data set in variable of train_test_split(x,y,test_size = 0.2) this funtion randomly pick data to testing and training \n",
    "\n",
    "#$$ lets change test_size from 20 to 80 % which means so only 20% of our data for training this model hence accuracy ll drop\n",
    "# for more accuracy more data and clean data for better accuracy\n",
    "\n"
   ]
  },
  {
   "cell_type": "code",
   "execution_count": 6,
   "metadata": {},
   "outputs": [
    {
     "ename": "SyntaxError",
     "evalue": "invalid syntax (<ipython-input-6-f8238f8e76cc>, line 25)",
     "output_type": "error",
     "traceback": [
      "\u001b[1;36m  File \u001b[1;32m\"<ipython-input-6-f8238f8e76cc>\"\u001b[1;36m, line \u001b[1;32m25\u001b[0m\n\u001b[1;33m    pip install joblib\u001b[0m\n\u001b[1;37m        ^\u001b[0m\n\u001b[1;31mSyntaxError\u001b[0m\u001b[1;31m:\u001b[0m invalid syntax\n"
     ]
    }
   ],
   "source": [
    "\n",
    "# next step is to clearing the data or preparing it means \n",
    "# we ll split this data set into 2 seprate data set\n",
    "#first 2 column as input set and last column as output set (when we trade a model we 2 sep data set input and output)\n",
    "# in this case genre column contain prediction \n",
    "# (LETS SAYS when someome say age thenn our model predicted song category)\n",
    "# music.drop() this method ll drop either column or row what ever your argument is \n",
    "# if you type variable name only ie music data that ll inspect it and provide all data inside the imported file\n",
    "\n",
    "# next step \n",
    "# learning and predicting \n",
    "# checking accuracy \n",
    "\n",
    "# we have splited our data set into 2 set namely training and testing \n",
    "# we are passing entire data set to train the model we do 80% to train our model other 20% to test our model \n",
    "\n",
    "# more complex our model more data required \n",
    "# more bug data we have more bad model we again bug data mean duplicate data irrelevant data incomplete data etc\n",
    "\n",
    "\n",
    "# model persistence \n",
    "# import data set splits it train it ask for prediction\n",
    "# for every new user we dont want to run \n",
    "\n",
    "# error\n",
    "# fit(self, X, y, sample_weight, check_input, X_idx_sorted) becuase you r not writing () after DecisionTreeClassifier\n"
   ]
  },
  {
   "cell_type": "code",
   "execution_count": 20,
   "metadata": {},
   "outputs": [
    {
     "data": {
      "text/plain": [
       "['music-recommender.joblib']"
      ]
     },
     "execution_count": 20,
     "metadata": {},
     "output_type": "execute_result"
    }
   ],
   "source": [
    "import pandas as pd \n",
    "from sklearn.tree  import DecisionTreeClassifier\n",
    "import joblib\n",
    "\n",
    "# sometime or situation training model is time consuming so thats y model presistence is imp we build train our model and save \n",
    "# to our file next time we make a prediction we simply load model from file and ask to make prediction we dont want to re-train\n",
    "#it we introduced  joblib model\n",
    "\n",
    "\n",
    "''' joblib object has method of saving or loading model''' \n",
    "\n",
    "music_data =pd.read_csv('music.csv')\n",
    "x = music_data.drop(columns = ['genre'])\n",
    "y = music_data['genre']\n",
    "\n",
    "mod = DecisionTreeClassifier()\n",
    "mod.fit(x,y)\n",
    "\n",
    "joblib.dump(model,'music-recommender.joblib')\n",
    "# music-recommender-joblib' this is the file we want to store our training data set by dump method run code check desktop\n",
    "\n",
    "\n"
   ]
  },
  {
   "cell_type": "code",
   "execution_count": 34,
   "metadata": {},
   "outputs": [
    {
     "ename": "SyntaxError",
     "evalue": "closing parenthesis ')' does not match opening parenthesis '[' (<ipython-input-34-ff1eb6087017>, line 7)",
     "output_type": "error",
     "traceback": [
      "\u001b[1;36m  File \u001b[1;32m\"<ipython-input-34-ff1eb6087017>\"\u001b[1;36m, line \u001b[1;32m7\u001b[0m\n\u001b[1;33m    predictions = model.predict([[[22,1],[23,1]])\u001b[0m\n\u001b[1;37m                                                ^\u001b[0m\n\u001b[1;31mSyntaxError\u001b[0m\u001b[1;31m:\u001b[0m closing parenthesis ')' does not match opening parenthesis '['\n"
     ]
    }
   ],
   "source": [
    "# now we have stored our training test data in a file with the help of dump method now lets check its working properly\n",
    "import pandas as pd \n",
    "from sklearn.tree  import DecisionTreeClassifier\n",
    "import joblib\n",
    "\n",
    "model = joblib.load('music-recommender.joblib')\n",
    "predictions = model.predict([[22,1],[23,1]])\n",
    "predictions\n",
    "\n",
    "## this case its show error .predict method asking one more postional arguement which we dont know move forward \n",
    "## something have updated which we are not aware of it"
   ]
  },
  {
   "cell_type": "code",
   "execution_count": 33,
   "metadata": {},
   "outputs": [],
   "source": [
    "import pandas as pd \n",
    "from sklearn.tree import DecisionTreeClassifier \n",
    "from sklearn import tree\n",
    "# this have a method for exporting a decision tree in graphical format \n",
    "\n",
    "music_data = pd.read_csv('music.csv')\n",
    "x = music_data.drop(columns = ['genre'])\n",
    "y = music_data['genre']\n",
    "\n",
    "model = DecisionTreeClassifier()\n",
    "model.fit(x,y)\n",
    "\n",
    "tree.export_graphviz(model,out_file = 'music-recommender.dot',feature_names = ['age','gender'],class_names = sorted(y.unique()),\n",
    "                    label = 'all',rounded = True, filled = True )\n",
    "\n",
    "'''filled = True each box filled with colour in Tree graph \n",
    "rounded = True each box have rounded corner\n",
    "label = all so every notes have label example class = hiphop sample = 6 age = 31\n",
    "class name = unique so its not repeated class \n",
    "feature name = age gender so you can see  condition how tree have created with that condition '''\n",
    "# run it do you see new file name music recommender in desktop \n",
    "# ( open vs code drop your output file from desktop preview it )\n",
    "\n",
    "# export_graphviz is method for exporting graph format \n",
    "#it have many argu \n",
    "#out_file ask for name of the output file in .dot format which is a graph description language \n",
    "# feature_name  we set to an array with 2 string (which are the properties of a feature of our data )\n",
    "# class names = its ask for output data set but they are repeated few time we introduced unique and sorted it"
   ]
  },
  {
   "cell_type": "code",
   "execution_count": null,
   "metadata": {},
   "outputs": [],
   "source": []
  }
 ],
 "metadata": {
  "kernelspec": {
   "display_name": "Python 3",
   "language": "python",
   "name": "python3"
  },
  "language_info": {
   "codemirror_mode": {
    "name": "ipython",
    "version": 3
   },
   "file_extension": ".py",
   "mimetype": "text/x-python",
   "name": "python",
   "nbconvert_exporter": "python",
   "pygments_lexer": "ipython3",
   "version": "3.8.3"
  }
 },
 "nbformat": 4,
 "nbformat_minor": 4
}
